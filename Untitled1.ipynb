{
 "cells": [
  {
   "cell_type": "code",
   "execution_count": 4,
   "metadata": {},
   "outputs": [],
   "source": [
    "import extract_msg\n",
    "import os\n",
    "def get_msg_file_attachments(msg_directory):\n",
    "    \n",
    "    folder = os.listdir(msg_directory)\n",
    "    files =  [file for file in folder if file.split(\".\")[-1] == \"msg\"]\n",
    "    for file in range(len(files)):\n",
    "        msg = extract_msg.Message(os.path.join(msg_directory,files[file]))\n",
    "        for msg in msg.attachments:\n",
    "            msg.save(msg_directory)\n",
    "\n",
    "msg_directory = \"./Bestellungen\"\n",
    "get_msg_file_attachments(msg_directory)"
   ]
  },
  {
   "cell_type": "code",
   "execution_count": 10,
   "metadata": {},
   "outputs": [],
   "source": [
    "A = np.random.randn(4,3)\n",
    "B = np.sum(A, axis = 1, keepdims = True)"
   ]
  },
  {
   "cell_type": "code",
   "execution_count": 11,
   "metadata": {},
   "outputs": [
    {
     "data": {
      "text/plain": [
       "(4, 1)"
      ]
     },
     "execution_count": 11,
     "metadata": {},
     "output_type": "execute_result"
    }
   ],
   "source": [
    "B.shape"
   ]
  },
  {
   "cell_type": "code",
   "execution_count": null,
   "metadata": {},
   "outputs": [],
   "source": []
  }
 ],
 "metadata": {
  "kernelspec": {
   "display_name": "Incubator26",
   "language": "python",
   "name": "incubator26"
  },
  "language_info": {
   "codemirror_mode": {
    "name": "ipython",
    "version": 3
   },
   "file_extension": ".py",
   "mimetype": "text/x-python",
   "name": "python",
   "nbconvert_exporter": "python",
   "pygments_lexer": "ipython3",
   "version": "3.6.12"
  }
 },
 "nbformat": 4,
 "nbformat_minor": 4
}
