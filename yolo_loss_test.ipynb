{
 "cells": [
  {
   "cell_type": "code",
   "execution_count": 24,
   "metadata": {},
   "outputs": [],
   "source": [
    "from incubator26.yolo import loss, model\n",
    "import numpy as np\n",
    "import tensorflow as tf\n",
    "import tensorflow.keras.layers as layers\n",
    "import keras.backend as K"
   ]
  },
  {
   "cell_type": "code",
   "execution_count": 20,
   "metadata": {},
   "outputs": [],
   "source": [
    "y_pred = tf.convert_to_tensor(np.random.rand(16, 16, 16, 5))\n",
    "y_true = tf.convert_to_tensor(np.random.rand(16, 16, 16, 5))"
   ]
  },
  {
   "cell_type": "code",
   "execution_count": 22,
   "metadata": {},
   "outputs": [],
   "source": [
    "def yolo_loss(y_true, y_pred):\n",
    "    # define variables from input tensors y_true and y_pred with shape (None, 32, 32, 5) respectively\n",
    "\n",
    "    y_pred_box_prob = y_pred[:, :, :, 0]  # shape = (None, 32, 32, 1)\n",
    "    y_pred_x = y_pred[:, :, :, 1]  # shape = (None, 32, 32, 1)\n",
    "    y_pred_y = y_pred[:, :, :, 2]  # shape = (None, 32, 32, 1)\n",
    "    y_pred_w = y_pred[:, :, :, 3]  # shape = (None, 32, 32, 1)\n",
    "    y_pred_h = y_pred[:, :, :, 4]  # shape = (None, 32, 32, 1)\n",
    "\n",
    "    y_true_box_prob = y_true[:, :, :, 0]  # shape = (None, 32, 32, 1)\n",
    "    y_true_x = y_true[:, :, :, 1]  # shape = (None, 32, 32, 1)\n",
    "    y_true_y = y_true[:, :, :, 2]  # shape = (None, 32, 32, 1)\n",
    "    y_true_w = y_true[:, :, :, 3]  # shape = (None, 32, 32, 1)\n",
    "    y_true_h = y_true[:, :, :, 4]  # shape = (None, 32, 32, 1)\n",
    "\n",
    "    # define response mask: object in grid, yes or no?\n",
    "\n",
    "    response_mask = y_true[:, :, :, 0]  # shape = (None, 32, 32, 1)\n",
    "\n",
    "    # set value for lamba_coord (default from paper = 5) and lambda_noobj (default from paper = 0.5)\n",
    "    lambda_coord = 5\n",
    "    lambda_noobj = 0.5\n",
    "\n",
    "    # calculate sum of squared x and y differences\n",
    "    x_diff = y_true_x - y_pred_x\n",
    "    y_diff = y_true_y - y_pred_y\n",
    "\n",
    "    x_and_y_loss = lambda_coord * response_mask * (K.square(x_diff) + K.square(y_diff))\n",
    "\n",
    "    # calculate sum of squared w and h differences\n",
    "    w_diff = K.sqrt(y_true_w) - K.sqrt(y_pred_w)\n",
    "    h_diff = K.sqrt(y_true_h) - K.sqrt(y_pred_h)\n",
    "\n",
    "    w_and_h_loss = lambda_coord * response_mask * (K.square(w_diff) + K.square(h_diff))\n",
    "\n",
    "    # calculate sum of squared box prob differences\n",
    "    box_prob_diff = y_true_box_prob - y_pred_box_prob\n",
    "    no_object_loss = lambda_noobj * (1 - response_mask) * K.square(0 - y_pred_box_prob)\n",
    "    object_loss = response_mask * K.square(1 - y_pred_box_prob)\n",
    "\n",
    "    box_prob_loss = no_object_loss + object_loss\n",
    "\n",
    "    # calculate yolo loss\n",
    "    yolo_loss = K.sum(x_and_y_loss + w_and_h_loss + box_prob_loss)\n",
    "\n",
    "    return yolo_loss"
   ]
  },
  {
   "cell_type": "code",
   "execution_count": 23,
   "metadata": {},
   "outputs": [
    {
     "data": {
      "text/plain": [
       "<tf.Tensor: shape=(), dtype=float64, numpy=6800.033794272225>"
      ]
     },
     "execution_count": 23,
     "metadata": {},
     "output_type": "execute_result"
    }
   ],
   "source": [
    "yolo_loss(y_true, y_pred)"
   ]
  }
 ],
 "metadata": {
  "kernelspec": {
   "display_name": "Incubator26",
   "language": "python",
   "name": "incubator26"
  },
  "language_info": {
   "codemirror_mode": {
    "name": "ipython",
    "version": 3
   },
   "file_extension": ".py",
   "mimetype": "text/x-python",
   "name": "python",
   "nbconvert_exporter": "python",
   "pygments_lexer": "ipython3",
   "version": "3.6.12"
  }
 },
 "nbformat": 4,
 "nbformat_minor": 4
}
